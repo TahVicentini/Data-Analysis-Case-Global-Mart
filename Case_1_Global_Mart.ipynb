{
  "nbformat": 4,
  "nbformat_minor": 0,
  "metadata": {
    "colab": {
      "provenance": []
    },
    "kernelspec": {
      "name": "python3",
      "display_name": "Python 3"
    },
    "language_info": {
      "name": "python"
    }
  },
  "cells": [
    {
      "cell_type": "markdown",
      "source": [
        "# Case: Análise de Vendas de uma Empresa de E-commerce:\n",
        "\n",
        "**Sobre a Empresa**\n",
        "\n",
        "A Global Mart é uma empresa de e-commerce de médio porte que opera em três grandes regiões: América do Norte, Europa e Ásia. A empresa oferece uma ampla gama de produtos, incluindo eletrônicos, vestuário, bens para o lar, livros e brinquedos. Fundada há 10 anos, a Global Mart tem como missão fornecer uma experiência de compra conveniente e personalizada para clientes de todo o mundo.\n",
        "\n",
        "Nos últimos dois anos, a empresa tem enfrentado desafios relacionados à retenção de clientes e variação nos padrões de compra entre as regiões. Embora tenha uma base sólida de clientes recorrentes, a competição acirrada no mercado e as diferenças culturais nas preferências de compra entre as regiões têm causado flutuações nas vendas.\n",
        "\n",
        "**Dados Gerais**\n",
        "\n",
        "*   Fundação: 2013;\n",
        "*   Número de Clientes: 2000 clientes ativos;\n",
        "*   Número de Funcionários: 300;\n",
        "* Regiões de Operação: América do Norte, Europa, Ásia;\n",
        "*Categorias de Produtos: Eletrônicos, Vestuário, Bens para o Lar, Livros, Brinquedos;\n",
        "* Canal de Vendas: Exclusivamente online.\n",
        "\n",
        "\n",
        "\n",
        "\n",
        "**Desafios Enfrentados**\n",
        "\n",
        "* **Retenção de Clientes:** A empresa tem uma taxa de churn de aproximadamente 15%, o que está acima da média para o setor de e-commerce.\n",
        "\n",
        "* **Diferenças Regionais:** Os hábitos de consumo variam significativamente entre as regiões, e a empresa está tentando ajustar suas estratégias de marketing e ofertas de produtos para melhor atender cada mercado.\n",
        "\n",
        "* **Concorrência:** Concorrentes maiores e mais bem estabelecidos estão aumentando a pressão sobre a empresa, especialmente no setor de eletrônicos.\n",
        "\n",
        "**Objetivos da Empresa**\n",
        "\n",
        "* **Aumentar a retenção de clientes:** Identificar os principais motivos pelos quais os clientes deixam de comprar e implementar soluções para diminuir a taxa de churn.\n",
        "\n",
        "* **Otimizar o mix de produtos:** Compreender melhor quais produtos são mais populares em cada região e ajustar o inventário e as campanhas de marketing de acordo.\n",
        "\n",
        "* **Melhorar a experiência do cliente:** Usar dados para personalizar a experiência de compra, oferecendo recomendações de produtos mais relevantes para cada cliente com base em seu comportamento de compra anterior.\n",
        "\n",
        "**Objetivos do Case**\n",
        "\n",
        "1. **Análise Geral de Vendas**\n",
        "\n",
        "* Quais foram as regiões com maior e menor volume de vendas?\n",
        "*Como foi a evolução das vendas ao longo do ano?\n",
        "*Qual a média de vendas por cliente?\n",
        "\n",
        "2. **Segmentação de Clientes**\n",
        "\n",
        "* Qual a distribuição de clientes por faixa etária e região?\n",
        "* Qual a relação entre as diferentes faixas etárias e o volume de compras?\n",
        "* Qual foi o comportamento de compra dos clientes mais recorrentes?\n",
        "\n",
        "3. **Análise de Produtos**\n",
        "\n",
        "* Quais foram os produtos mais vendidos e os menos vendidos?\n",
        "* Qual o ticket médio por categoria de produto?\n",
        "* Existe alguma correlação entre o tipo de produto e a região de venda?\n",
        "\n",
        "4. **Churn (Perda de Clientes)**\n",
        "\n",
        "* Qual a taxa de churn ao longo do ano?\n",
        "* Quais padrões de comportamento indicam maior chance de churn?"
      ],
      "metadata": {
        "id": "eJ7fgtXnp8mQ"
      }
    },
    {
      "cell_type": "code",
      "execution_count": 2,
      "metadata": {
        "colab": {
          "base_uri": "https://localhost:8080/"
        },
        "id": "r2R5PuKW7sv2",
        "outputId": "88d9cb2d-6633-4d4a-83c4-4cde2db2b948"
      },
      "outputs": [
        {
          "output_type": "stream",
          "name": "stdout",
          "text": [
            "Requirement already satisfied: pandas in /usr/local/lib/python3.10/dist-packages (2.1.4)\n",
            "Requirement already satisfied: numpy<2,>=1.22.4 in /usr/local/lib/python3.10/dist-packages (from pandas) (1.26.4)\n",
            "Requirement already satisfied: python-dateutil>=2.8.2 in /usr/local/lib/python3.10/dist-packages (from pandas) (2.8.2)\n",
            "Requirement already satisfied: pytz>=2020.1 in /usr/local/lib/python3.10/dist-packages (from pandas) (2024.1)\n",
            "Requirement already satisfied: tzdata>=2022.1 in /usr/local/lib/python3.10/dist-packages (from pandas) (2024.1)\n",
            "Requirement already satisfied: six>=1.5 in /usr/local/lib/python3.10/dist-packages (from python-dateutil>=2.8.2->pandas) (1.16.0)\n"
          ]
        }
      ],
      "source": [
        "#Instalando o pacote Pandas\n",
        "!pip install pandas"
      ]
    },
    {
      "cell_type": "code",
      "source": [
        "# Importando os pacotes Pandas, Io e Google Drive. O arquivo base está inserido no Google Drive,\n",
        "# assim o caminho para ele deve ser indicado\n",
        "import pandas as pd\n",
        "import io\n",
        "from google.colab import drive\n",
        "drive.mount('/content/drive')\n",
        "file_path = '/content/drive/MyDrive/Experimental Data/global_meta.csv'\n"
      ],
      "metadata": {
        "colab": {
          "base_uri": "https://localhost:8080/"
        },
        "id": "pMpFopMw-Emx",
        "outputId": "3b3dfed3-d5bb-41d6-b887-bd37a56d70c3"
      },
      "execution_count": 3,
      "outputs": [
        {
          "output_type": "stream",
          "name": "stdout",
          "text": [
            "Drive already mounted at /content/drive; to attempt to forcibly remount, call drive.mount(\"/content/drive\", force_remount=True).\n"
          ]
        }
      ]
    },
    {
      "cell_type": "code",
      "source": [
        "df = pd.read_csv(file_path)\n",
        "df.dtypes"
      ],
      "metadata": {
        "id": "T-I_eMWsEW50"
      },
      "execution_count": null,
      "outputs": []
    },
    {
      "cell_type": "code",
      "source": [
        "df.count()"
      ],
      "metadata": {
        "id": "5Y92bEjVomew"
      },
      "execution_count": null,
      "outputs": []
    },
    {
      "cell_type": "code",
      "source": [
        "df.head()"
      ],
      "metadata": {
        "colab": {
          "base_uri": "https://localhost:8080/",
          "height": 206
        },
        "id": "iFvVvA3yoMI3",
        "outputId": "95e63a91-c603-4dce-b613-0bc743a1004a"
      },
      "execution_count": 5,
      "outputs": [
        {
          "output_type": "execute_result",
          "data": {
            "text/plain": [
              "   order_id  customer_id         region  age product_category  order_date  \\\n",
              "0         1          739           Asia   45       Home Goods  2023-04-08   \n",
              "1         2          883         Europe   65      Electronics  2023-11-29   \n",
              "2         3           15  North America   48       Home Goods  2023-05-15   \n",
              "3         4          192           Asia   36            Books  2023-01-17   \n",
              "4         5          985         Europe   46       Home Goods  2023-04-20   \n",
              "\n",
              "   order_value  quantity  customer_lifetime_value last_order_date  churn  \n",
              "0       566.49         2                  3376.34      2023-11-20      0  \n",
              "1        15.81         1                  3930.37      2023-05-03      0  \n",
              "2        87.72         3                   975.21      2023-03-31      0  \n",
              "3       882.45         3                  4150.20      2023-10-31      0  \n",
              "4        87.10         2                  2385.25      2023-11-03      0  "
            ],
            "text/html": [
              "\n",
              "  <div id=\"df-255e3e59-e87b-4369-a08c-bce7b8d72a39\" class=\"colab-df-container\">\n",
              "    <div>\n",
              "<style scoped>\n",
              "    .dataframe tbody tr th:only-of-type {\n",
              "        vertical-align: middle;\n",
              "    }\n",
              "\n",
              "    .dataframe tbody tr th {\n",
              "        vertical-align: top;\n",
              "    }\n",
              "\n",
              "    .dataframe thead th {\n",
              "        text-align: right;\n",
              "    }\n",
              "</style>\n",
              "<table border=\"1\" class=\"dataframe\">\n",
              "  <thead>\n",
              "    <tr style=\"text-align: right;\">\n",
              "      <th></th>\n",
              "      <th>order_id</th>\n",
              "      <th>customer_id</th>\n",
              "      <th>region</th>\n",
              "      <th>age</th>\n",
              "      <th>product_category</th>\n",
              "      <th>order_date</th>\n",
              "      <th>order_value</th>\n",
              "      <th>quantity</th>\n",
              "      <th>customer_lifetime_value</th>\n",
              "      <th>last_order_date</th>\n",
              "      <th>churn</th>\n",
              "    </tr>\n",
              "  </thead>\n",
              "  <tbody>\n",
              "    <tr>\n",
              "      <th>0</th>\n",
              "      <td>1</td>\n",
              "      <td>739</td>\n",
              "      <td>Asia</td>\n",
              "      <td>45</td>\n",
              "      <td>Home Goods</td>\n",
              "      <td>2023-04-08</td>\n",
              "      <td>566.49</td>\n",
              "      <td>2</td>\n",
              "      <td>3376.34</td>\n",
              "      <td>2023-11-20</td>\n",
              "      <td>0</td>\n",
              "    </tr>\n",
              "    <tr>\n",
              "      <th>1</th>\n",
              "      <td>2</td>\n",
              "      <td>883</td>\n",
              "      <td>Europe</td>\n",
              "      <td>65</td>\n",
              "      <td>Electronics</td>\n",
              "      <td>2023-11-29</td>\n",
              "      <td>15.81</td>\n",
              "      <td>1</td>\n",
              "      <td>3930.37</td>\n",
              "      <td>2023-05-03</td>\n",
              "      <td>0</td>\n",
              "    </tr>\n",
              "    <tr>\n",
              "      <th>2</th>\n",
              "      <td>3</td>\n",
              "      <td>15</td>\n",
              "      <td>North America</td>\n",
              "      <td>48</td>\n",
              "      <td>Home Goods</td>\n",
              "      <td>2023-05-15</td>\n",
              "      <td>87.72</td>\n",
              "      <td>3</td>\n",
              "      <td>975.21</td>\n",
              "      <td>2023-03-31</td>\n",
              "      <td>0</td>\n",
              "    </tr>\n",
              "    <tr>\n",
              "      <th>3</th>\n",
              "      <td>4</td>\n",
              "      <td>192</td>\n",
              "      <td>Asia</td>\n",
              "      <td>36</td>\n",
              "      <td>Books</td>\n",
              "      <td>2023-01-17</td>\n",
              "      <td>882.45</td>\n",
              "      <td>3</td>\n",
              "      <td>4150.20</td>\n",
              "      <td>2023-10-31</td>\n",
              "      <td>0</td>\n",
              "    </tr>\n",
              "    <tr>\n",
              "      <th>4</th>\n",
              "      <td>5</td>\n",
              "      <td>985</td>\n",
              "      <td>Europe</td>\n",
              "      <td>46</td>\n",
              "      <td>Home Goods</td>\n",
              "      <td>2023-04-20</td>\n",
              "      <td>87.10</td>\n",
              "      <td>2</td>\n",
              "      <td>2385.25</td>\n",
              "      <td>2023-11-03</td>\n",
              "      <td>0</td>\n",
              "    </tr>\n",
              "  </tbody>\n",
              "</table>\n",
              "</div>\n",
              "    <div class=\"colab-df-buttons\">\n",
              "\n",
              "  <div class=\"colab-df-container\">\n",
              "    <button class=\"colab-df-convert\" onclick=\"convertToInteractive('df-255e3e59-e87b-4369-a08c-bce7b8d72a39')\"\n",
              "            title=\"Convert this dataframe to an interactive table.\"\n",
              "            style=\"display:none;\">\n",
              "\n",
              "  <svg xmlns=\"http://www.w3.org/2000/svg\" height=\"24px\" viewBox=\"0 -960 960 960\">\n",
              "    <path d=\"M120-120v-720h720v720H120Zm60-500h600v-160H180v160Zm220 220h160v-160H400v160Zm0 220h160v-160H400v160ZM180-400h160v-160H180v160Zm440 0h160v-160H620v160ZM180-180h160v-160H180v160Zm440 0h160v-160H620v160Z\"/>\n",
              "  </svg>\n",
              "    </button>\n",
              "\n",
              "  <style>\n",
              "    .colab-df-container {\n",
              "      display:flex;\n",
              "      gap: 12px;\n",
              "    }\n",
              "\n",
              "    .colab-df-convert {\n",
              "      background-color: #E8F0FE;\n",
              "      border: none;\n",
              "      border-radius: 50%;\n",
              "      cursor: pointer;\n",
              "      display: none;\n",
              "      fill: #1967D2;\n",
              "      height: 32px;\n",
              "      padding: 0 0 0 0;\n",
              "      width: 32px;\n",
              "    }\n",
              "\n",
              "    .colab-df-convert:hover {\n",
              "      background-color: #E2EBFA;\n",
              "      box-shadow: 0px 1px 2px rgba(60, 64, 67, 0.3), 0px 1px 3px 1px rgba(60, 64, 67, 0.15);\n",
              "      fill: #174EA6;\n",
              "    }\n",
              "\n",
              "    .colab-df-buttons div {\n",
              "      margin-bottom: 4px;\n",
              "    }\n",
              "\n",
              "    [theme=dark] .colab-df-convert {\n",
              "      background-color: #3B4455;\n",
              "      fill: #D2E3FC;\n",
              "    }\n",
              "\n",
              "    [theme=dark] .colab-df-convert:hover {\n",
              "      background-color: #434B5C;\n",
              "      box-shadow: 0px 1px 3px 1px rgba(0, 0, 0, 0.15);\n",
              "      filter: drop-shadow(0px 1px 2px rgba(0, 0, 0, 0.3));\n",
              "      fill: #FFFFFF;\n",
              "    }\n",
              "  </style>\n",
              "\n",
              "    <script>\n",
              "      const buttonEl =\n",
              "        document.querySelector('#df-255e3e59-e87b-4369-a08c-bce7b8d72a39 button.colab-df-convert');\n",
              "      buttonEl.style.display =\n",
              "        google.colab.kernel.accessAllowed ? 'block' : 'none';\n",
              "\n",
              "      async function convertToInteractive(key) {\n",
              "        const element = document.querySelector('#df-255e3e59-e87b-4369-a08c-bce7b8d72a39');\n",
              "        const dataTable =\n",
              "          await google.colab.kernel.invokeFunction('convertToInteractive',\n",
              "                                                    [key], {});\n",
              "        if (!dataTable) return;\n",
              "\n",
              "        const docLinkHtml = 'Like what you see? Visit the ' +\n",
              "          '<a target=\"_blank\" href=https://colab.research.google.com/notebooks/data_table.ipynb>data table notebook</a>'\n",
              "          + ' to learn more about interactive tables.';\n",
              "        element.innerHTML = '';\n",
              "        dataTable['output_type'] = 'display_data';\n",
              "        await google.colab.output.renderOutput(dataTable, element);\n",
              "        const docLink = document.createElement('div');\n",
              "        docLink.innerHTML = docLinkHtml;\n",
              "        element.appendChild(docLink);\n",
              "      }\n",
              "    </script>\n",
              "  </div>\n",
              "\n",
              "\n",
              "<div id=\"df-76d17155-041e-4984-b5a7-d3ebb755b6c9\">\n",
              "  <button class=\"colab-df-quickchart\" onclick=\"quickchart('df-76d17155-041e-4984-b5a7-d3ebb755b6c9')\"\n",
              "            title=\"Suggest charts\"\n",
              "            style=\"display:none;\">\n",
              "\n",
              "<svg xmlns=\"http://www.w3.org/2000/svg\" height=\"24px\"viewBox=\"0 0 24 24\"\n",
              "     width=\"24px\">\n",
              "    <g>\n",
              "        <path d=\"M19 3H5c-1.1 0-2 .9-2 2v14c0 1.1.9 2 2 2h14c1.1 0 2-.9 2-2V5c0-1.1-.9-2-2-2zM9 17H7v-7h2v7zm4 0h-2V7h2v10zm4 0h-2v-4h2v4z\"/>\n",
              "    </g>\n",
              "</svg>\n",
              "  </button>\n",
              "\n",
              "<style>\n",
              "  .colab-df-quickchart {\n",
              "      --bg-color: #E8F0FE;\n",
              "      --fill-color: #1967D2;\n",
              "      --hover-bg-color: #E2EBFA;\n",
              "      --hover-fill-color: #174EA6;\n",
              "      --disabled-fill-color: #AAA;\n",
              "      --disabled-bg-color: #DDD;\n",
              "  }\n",
              "\n",
              "  [theme=dark] .colab-df-quickchart {\n",
              "      --bg-color: #3B4455;\n",
              "      --fill-color: #D2E3FC;\n",
              "      --hover-bg-color: #434B5C;\n",
              "      --hover-fill-color: #FFFFFF;\n",
              "      --disabled-bg-color: #3B4455;\n",
              "      --disabled-fill-color: #666;\n",
              "  }\n",
              "\n",
              "  .colab-df-quickchart {\n",
              "    background-color: var(--bg-color);\n",
              "    border: none;\n",
              "    border-radius: 50%;\n",
              "    cursor: pointer;\n",
              "    display: none;\n",
              "    fill: var(--fill-color);\n",
              "    height: 32px;\n",
              "    padding: 0;\n",
              "    width: 32px;\n",
              "  }\n",
              "\n",
              "  .colab-df-quickchart:hover {\n",
              "    background-color: var(--hover-bg-color);\n",
              "    box-shadow: 0 1px 2px rgba(60, 64, 67, 0.3), 0 1px 3px 1px rgba(60, 64, 67, 0.15);\n",
              "    fill: var(--button-hover-fill-color);\n",
              "  }\n",
              "\n",
              "  .colab-df-quickchart-complete:disabled,\n",
              "  .colab-df-quickchart-complete:disabled:hover {\n",
              "    background-color: var(--disabled-bg-color);\n",
              "    fill: var(--disabled-fill-color);\n",
              "    box-shadow: none;\n",
              "  }\n",
              "\n",
              "  .colab-df-spinner {\n",
              "    border: 2px solid var(--fill-color);\n",
              "    border-color: transparent;\n",
              "    border-bottom-color: var(--fill-color);\n",
              "    animation:\n",
              "      spin 1s steps(1) infinite;\n",
              "  }\n",
              "\n",
              "  @keyframes spin {\n",
              "    0% {\n",
              "      border-color: transparent;\n",
              "      border-bottom-color: var(--fill-color);\n",
              "      border-left-color: var(--fill-color);\n",
              "    }\n",
              "    20% {\n",
              "      border-color: transparent;\n",
              "      border-left-color: var(--fill-color);\n",
              "      border-top-color: var(--fill-color);\n",
              "    }\n",
              "    30% {\n",
              "      border-color: transparent;\n",
              "      border-left-color: var(--fill-color);\n",
              "      border-top-color: var(--fill-color);\n",
              "      border-right-color: var(--fill-color);\n",
              "    }\n",
              "    40% {\n",
              "      border-color: transparent;\n",
              "      border-right-color: var(--fill-color);\n",
              "      border-top-color: var(--fill-color);\n",
              "    }\n",
              "    60% {\n",
              "      border-color: transparent;\n",
              "      border-right-color: var(--fill-color);\n",
              "    }\n",
              "    80% {\n",
              "      border-color: transparent;\n",
              "      border-right-color: var(--fill-color);\n",
              "      border-bottom-color: var(--fill-color);\n",
              "    }\n",
              "    90% {\n",
              "      border-color: transparent;\n",
              "      border-bottom-color: var(--fill-color);\n",
              "    }\n",
              "  }\n",
              "</style>\n",
              "\n",
              "  <script>\n",
              "    async function quickchart(key) {\n",
              "      const quickchartButtonEl =\n",
              "        document.querySelector('#' + key + ' button');\n",
              "      quickchartButtonEl.disabled = true;  // To prevent multiple clicks.\n",
              "      quickchartButtonEl.classList.add('colab-df-spinner');\n",
              "      try {\n",
              "        const charts = await google.colab.kernel.invokeFunction(\n",
              "            'suggestCharts', [key], {});\n",
              "      } catch (error) {\n",
              "        console.error('Error during call to suggestCharts:', error);\n",
              "      }\n",
              "      quickchartButtonEl.classList.remove('colab-df-spinner');\n",
              "      quickchartButtonEl.classList.add('colab-df-quickchart-complete');\n",
              "    }\n",
              "    (() => {\n",
              "      let quickchartButtonEl =\n",
              "        document.querySelector('#df-76d17155-041e-4984-b5a7-d3ebb755b6c9 button');\n",
              "      quickchartButtonEl.style.display =\n",
              "        google.colab.kernel.accessAllowed ? 'block' : 'none';\n",
              "    })();\n",
              "  </script>\n",
              "</div>\n",
              "\n",
              "    </div>\n",
              "  </div>\n"
            ],
            "application/vnd.google.colaboratory.intrinsic+json": {
              "type": "dataframe",
              "variable_name": "df",
              "summary": "{\n  \"name\": \"df\",\n  \"rows\": 3000,\n  \"fields\": [\n    {\n      \"column\": \"order_id\",\n      \"properties\": {\n        \"dtype\": \"number\",\n        \"std\": 866,\n        \"min\": 1,\n        \"max\": 3000,\n        \"num_unique_values\": 3000,\n        \"samples\": [\n          1802,\n          1191,\n          1818\n        ],\n        \"semantic_type\": \"\",\n        \"description\": \"\"\n      }\n    },\n    {\n      \"column\": \"customer_id\",\n      \"properties\": {\n        \"dtype\": \"number\",\n        \"std\": 292,\n        \"min\": 1,\n        \"max\": 1000,\n        \"num_unique_values\": 935,\n        \"samples\": [\n          882,\n          759,\n          669\n        ],\n        \"semantic_type\": \"\",\n        \"description\": \"\"\n      }\n    },\n    {\n      \"column\": \"region\",\n      \"properties\": {\n        \"dtype\": \"category\",\n        \"num_unique_values\": 3,\n        \"samples\": [\n          \"Asia\",\n          \"Europe\",\n          \"North America\"\n        ],\n        \"semantic_type\": \"\",\n        \"description\": \"\"\n      }\n    },\n    {\n      \"column\": \"age\",\n      \"properties\": {\n        \"dtype\": \"number\",\n        \"std\": 14,\n        \"min\": 18,\n        \"max\": 69,\n        \"num_unique_values\": 52,\n        \"samples\": [\n          25,\n          57,\n          58\n        ],\n        \"semantic_type\": \"\",\n        \"description\": \"\"\n      }\n    },\n    {\n      \"column\": \"product_category\",\n      \"properties\": {\n        \"dtype\": \"category\",\n        \"num_unique_values\": 5,\n        \"samples\": [\n          \"Electronics\",\n          \"Clothing\",\n          \"Books\"\n        ],\n        \"semantic_type\": \"\",\n        \"description\": \"\"\n      }\n    },\n    {\n      \"column\": \"order_date\",\n      \"properties\": {\n        \"dtype\": \"object\",\n        \"num_unique_values\": 365,\n        \"samples\": [\n          \"2023-03-06\",\n          \"2023-09-25\",\n          \"2023-05-24\"\n        ],\n        \"semantic_type\": \"\",\n        \"description\": \"\"\n      }\n    },\n    {\n      \"column\": \"order_value\",\n      \"properties\": {\n        \"dtype\": \"number\",\n        \"std\": 280.72282503761244,\n        \"min\": 10.05,\n        \"max\": 999.22,\n        \"num_unique_values\": 2962,\n        \"samples\": [\n          469.94,\n          135.39,\n          546.09\n        ],\n        \"semantic_type\": \"\",\n        \"description\": \"\"\n      }\n    },\n    {\n      \"column\": \"quantity\",\n      \"properties\": {\n        \"dtype\": \"number\",\n        \"std\": 1,\n        \"min\": 1,\n        \"max\": 4,\n        \"num_unique_values\": 4,\n        \"samples\": [\n          1,\n          4,\n          2\n        ],\n        \"semantic_type\": \"\",\n        \"description\": \"\"\n      }\n    },\n    {\n      \"column\": \"customer_lifetime_value\",\n      \"properties\": {\n        \"dtype\": \"number\",\n        \"std\": 1428.5879058187859,\n        \"min\": 56.53,\n        \"max\": 4999.04,\n        \"num_unique_values\": 933,\n        \"samples\": [\n          1113.61,\n          3169.42,\n          4451.61\n        ],\n        \"semantic_type\": \"\",\n        \"description\": \"\"\n      }\n    },\n    {\n      \"column\": \"last_order_date\",\n      \"properties\": {\n        \"dtype\": \"object\",\n        \"num_unique_values\": 342,\n        \"samples\": [\n          \"2023-02-19\",\n          \"2023-07-30\",\n          \"2023-07-18\"\n        ],\n        \"semantic_type\": \"\",\n        \"description\": \"\"\n      }\n    },\n    {\n      \"column\": \"churn\",\n      \"properties\": {\n        \"dtype\": \"number\",\n        \"std\": 0,\n        \"min\": 0,\n        \"max\": 1,\n        \"num_unique_values\": 2,\n        \"samples\": [\n          1,\n          0\n        ],\n        \"semantic_type\": \"\",\n        \"description\": \"\"\n      }\n    }\n  ]\n}"
            }
          },
          "metadata": {},
          "execution_count": 5
        }
      ]
    },
    {
      "cell_type": "code",
      "source": [
        "df.info"
      ],
      "metadata": {
        "id": "s2g03X1Jo08v"
      },
      "execution_count": null,
      "outputs": []
    },
    {
      "cell_type": "markdown",
      "source": [
        "* **Quais foram as regiões com maior e menor volume de vendas?**"
      ],
      "metadata": {
        "id": "H6Tzqi5NtRLo"
      }
    },
    {
      "cell_type": "code",
      "source": [
        "# Agrupar as vendas por região e calcular o total de vendas\n",
        "sales_by_region = df.groupby('region')['order_value'].sum().reset_index()\n",
        "\n",
        "# Ordenar os resultados do maior para o menor volume de vendas\n",
        "sales_by_region = sales_by_region.sort_values(by='order_value', ascending=False)\n",
        "\n",
        "# Exibir o resultado\n",
        "print(sales_by_region)"
      ],
      "metadata": {
        "id": "fJG_KgSXtIDw"
      },
      "execution_count": null,
      "outputs": []
    },
    {
      "cell_type": "code",
      "source": [
        "# Região com maior volume de vendas\n",
        "max_sales_region = sales_by_region.iloc[0]\n",
        "print(f\"Região com maior volume de vendas: {max_sales_region['region']} com {max_sales_region['order_value']} em vendas.\")\n",
        "\n",
        "# Região com menor volume de vendas\n",
        "min_sales_region = sales_by_region.iloc[-1]\n",
        "print(f\"Região com menor volume de vendas: {min_sales_region['region']} com {min_sales_region['order_value']} em vendas.\")\n",
        "\n",
        "import seaborn as sns\n",
        "import matplotlib.pyplot as plt\n",
        "\n",
        "# Criar gráfico de barras para as vendas por região\n",
        "sns.barplot(x='region', y='order_value', data=sales_by_region)\n",
        "plt.title('Volume Total de Vendas por Região')\n",
        "plt.ylabel('Volume de Vendas ($)')\n",
        "plt.xlabel('Região')\n",
        "plt.show()"
      ],
      "metadata": {
        "id": "_iLKvJQltcK4"
      },
      "execution_count": null,
      "outputs": []
    },
    {
      "cell_type": "markdown",
      "source": [
        "* **Como foi a evolução das vendas ao longo do ano?**"
      ],
      "metadata": {
        "id": "iSCilmoGtthw"
      }
    },
    {
      "cell_type": "code",
      "source": [
        "# Converter a coluna de datas para o formato datetime\n",
        "df['order_date'] = pd.to_datetime(df['order_date'])\n",
        "\n",
        "# Verificar se a conversão foi bem-sucedida\n",
        "print(df['order_date'].dtype)"
      ],
      "metadata": {
        "colab": {
          "base_uri": "https://localhost:8080/"
        },
        "id": "Y6qziP2rtzqA",
        "outputId": "4365f5fa-3c15-4181-8a95-c9d663217c6f"
      },
      "execution_count": 23,
      "outputs": [
        {
          "output_type": "stream",
          "name": "stdout",
          "text": [
            "datetime64[ns]\n"
          ]
        }
      ]
    },
    {
      "cell_type": "code",
      "source": [
        "# Criar uma nova coluna que combina mês e ano\n",
        "df['month_year'] = df['order_date'].dt.to_period('M')  # M para mês e ano"
      ],
      "metadata": {
        "id": "sJwmsc9eumXq"
      },
      "execution_count": 24,
      "outputs": []
    },
    {
      "cell_type": "code",
      "source": [
        "# Agrupar as vendas por mês/ano\n",
        "sales_by_month = df.groupby('month_year')['order_value'].sum().reset_index()\n",
        "\n",
        "# Verificar o resultado\n",
        "print(sales_by_month)"
      ],
      "metadata": {
        "id": "0FNA5T-Dupk_"
      },
      "execution_count": null,
      "outputs": []
    },
    {
      "source": [
        "import matplotlib.pyplot as plt\n",
        "import seaborn as sns\n",
        "\n",
        "# Criar um gráfico de linha para mostrar a evolução das vendas\n",
        "plt.figure(figsize=(10,6))\n",
        "\n",
        "# Convert 'month_year' to strings\n",
        "sales_by_month['month_year'] = sales_by_month['month_year'].astype(str)\n",
        "\n",
        "sns.lineplot(x='month_year', y='order_value', data=sales_by_month, marker='o')\n",
        "\n",
        "# Títulos e rótulos\n",
        "plt.title('Evolução das Vendas ao Longo do Ano')\n",
        "plt.xlabel('Mês/Ano')\n",
        "plt.ylabel('Volume de Vendas ($)')\n",
        "plt.xticks(rotation=45)  # Rotacionar as datas para melhor visualização\n",
        "\n",
        "# Mostrar o gráfico\n",
        "plt.show()"
      ],
      "cell_type": "code",
      "metadata": {
        "id": "SgDerA4AvBW5"
      },
      "execution_count": null,
      "outputs": []
    },
    {
      "cell_type": "markdown",
      "source": [
        "* **Qual a média de vendas por cliente?**"
      ],
      "metadata": {
        "id": "Zred5N4MvTXA"
      }
    },
    {
      "cell_type": "code",
      "source": [
        "# Agrupar vendas por cliente\n",
        "sales_per_customer = df.groupby('customer_id')['order_value'].sum().reset_index()\n",
        "\n",
        "# Verificar o total de vendas por cliente\n",
        "print(sales_per_customer.head())"
      ],
      "metadata": {
        "id": "FiDxJkWpvVjq"
      },
      "execution_count": null,
      "outputs": []
    },
    {
      "cell_type": "code",
      "source": [
        "# Calcular a média de vendas por cliente\n",
        "average_sales_per_customer = sales_per_customer['order_value'].mean()\n",
        "\n",
        "# Exibir o resultado\n",
        "print(f\"A média de vendas por cliente é: ${average_sales_per_customer:.2f}\")\n"
      ],
      "metadata": {
        "id": "KvZg2LorvbcY"
      },
      "execution_count": null,
      "outputs": []
    },
    {
      "cell_type": "code",
      "source": [
        "import seaborn as sns\n",
        "import matplotlib.pyplot as plt\n",
        "\n",
        "# Criar um histograma da distribuição de vendas por cliente\n",
        "plt.figure(figsize=(10,6))\n",
        "sns.histplot(sales_per_customer['order_value'], bins=30, kde=True)\n",
        "\n",
        "# Títulos e rótulos\n",
        "plt.title('Distribuição de Vendas por Cliente')\n",
        "plt.xlabel('Total de Vendas ($)')\n",
        "plt.ylabel('Número de Clientes')\n",
        "\n",
        "# Mostrar o gráfico\n",
        "plt.show()"
      ],
      "metadata": {
        "id": "VHBKwXuavfNp"
      },
      "execution_count": null,
      "outputs": []
    },
    {
      "cell_type": "markdown",
      "source": [
        "* **Qual a distribuição de clientes por faixa etária e região?**"
      ],
      "metadata": {
        "id": "qSJ8HvbSwMWx"
      }
    },
    {
      "cell_type": "code",
      "source": [
        "# Definir os limites das faixas etárias e os rótulos\n",
        "bins = [18, 24, 34, 44, 54, 64, 74, 100]  # Faixas etárias\n",
        "labels = ['18-24', '25-34', '35-44', '45-54', '55-64', '65-74', '75+']\n",
        "\n",
        "# Criar uma nova coluna com as faixas etárias\n",
        "df['age_group'] = pd.cut(df['age'], bins=bins, labels=labels, right=False)\n",
        "\n",
        "# Verificar a nova coluna de faixas etárias\n",
        "print(df[['age', 'age_group']].head())"
      ],
      "metadata": {
        "id": "fMn14q80wSvz"
      },
      "execution_count": null,
      "outputs": []
    },
    {
      "cell_type": "code",
      "source": [
        "# Agrupar os clientes por faixa etária e região\n",
        "age_region_distribution = df.groupby(['age_group', 'region'])['customer_id'].count().reset_index()\n",
        "\n",
        "# Renomear a coluna para 'customer_count'\n",
        "age_region_distribution = age_region_distribution.rename(columns={'customer_id': 'customer_count'})\n",
        "\n",
        "# Verificar o resultado\n",
        "print(age_region_distribution)\n"
      ],
      "metadata": {
        "id": "ZdCB6lUmwfNB"
      },
      "execution_count": null,
      "outputs": []
    },
    {
      "source": [
        "# Transformar os dados para o formato de tabela dinâmica (pivot table) para criar o heatmap\n",
        "heatmap_data = age_region_distribution.pivot(index='age_group', columns='region', values='customer_count')\n",
        "\n",
        "# Criar o heatmap\n",
        "plt.figure(figsize=(10,6))\n",
        "sns.heatmap(heatmap_data, annot=True, fmt=\"d\", cmap=\"YlGnBu\")\n",
        "\n",
        "# Títulos e rótulos\n",
        "plt.title('Distribuição de Clientes por Faixa Etária e Região')\n",
        "plt.xlabel('Região')\n",
        "plt.ylabel('Faixa Etária')\n",
        "\n",
        "plt.show()"
      ],
      "cell_type": "code",
      "metadata": {
        "id": "69lPh2-2wuH5"
      },
      "execution_count": null,
      "outputs": []
    },
    {
      "cell_type": "markdown",
      "source": [
        "* **Qual a relação entre as diferentes faixas etárias e o volume de compras?**"
      ],
      "metadata": {
        "id": "Ua91O3Bbx-hJ"
      }
    },
    {
      "cell_type": "code",
      "source": [
        "# Definir os limites das faixas etárias e os rótulos\n",
        "bins = [18, 24, 34, 44, 54, 64, 74, 100]\n",
        "labels = ['18-24', '25-34', '35-44', '45-54', '55-64', '65-74', '75+']\n",
        "\n",
        "# Criar uma nova coluna com as faixas etárias\n",
        "df['age_group'] = pd.cut(df['age'], bins=bins, labels=labels, right=False)\n",
        "\n",
        "# Verificar a nova coluna de faixas etárias\n",
        "print(df[['age', 'age_group']].head())\n"
      ],
      "metadata": {
        "id": "Jt5MSx3dyAun"
      },
      "execution_count": null,
      "outputs": []
    },
    {
      "cell_type": "code",
      "source": [
        "# Agrupar os dados pela faixa etária e calcular o volume total de compras\n",
        "sales_by_age_group = df.groupby('age_group')['order_value'].sum().reset_index()\n",
        "\n",
        "# Verificar o resultado\n",
        "print(sales_by_age_group)\n"
      ],
      "metadata": {
        "id": "T098DST9yVtK"
      },
      "execution_count": null,
      "outputs": []
    },
    {
      "cell_type": "code",
      "source": [
        "# Agrupar por faixa etária e calcular a média de compras por cliente\n",
        "average_sales_by_age_group = df.groupby('age_group')['order_value'].mean().reset_index()\n",
        "\n",
        "# Verificar o resultado\n",
        "print(average_sales_by_age_group)\n"
      ],
      "metadata": {
        "id": "hEckWWEryaGZ"
      },
      "execution_count": null,
      "outputs": []
    },
    {
      "cell_type": "code",
      "source": [
        "import seaborn as sns\n",
        "import matplotlib.pyplot as plt\n",
        "\n",
        "# Criar gráfico de barras para o volume de compras por faixa etária\n",
        "plt.figure(figsize=(10,6))\n",
        "sns.barplot(x='age_group', y='order_value', data=sales_by_age_group)\n",
        "\n",
        "# Títulos e rótulos\n",
        "plt.title('Volume Total de Compras por Faixa Etária')\n",
        "plt.xlabel('Faixa Etária')\n",
        "plt.ylabel('Volume de Compras ($)')\n",
        "\n",
        "plt.show()"
      ],
      "metadata": {
        "id": "v1t-k4gpydn5"
      },
      "execution_count": null,
      "outputs": []
    },
    {
      "cell_type": "markdown",
      "source": [
        "* **Qual foi o comportamento de compra dos clientes mais recorrentes?**"
      ],
      "metadata": {
        "id": "ml0w8DLgy-oB"
      }
    },
    {
      "cell_type": "code",
      "source": [
        "# Contar o número de pedidos por cliente\n",
        "order_counts = df.groupby('customer_id')['order_id'].count().reset_index()\n",
        "\n",
        "# Renomear a coluna para indicar o número de pedidos\n",
        "order_counts = order_counts.rename(columns={'order_id': 'order_count'})\n",
        "\n",
        "# Identificar os clientes mais recorrentes (com mais de um pedido)\n",
        "recurring_customers = order_counts[order_counts['order_count'] > 1]\n",
        "\n",
        "# Verificar os clientes recorrentes\n",
        "print(recurring_customers.head())"
      ],
      "metadata": {
        "id": "0xw-ZY7dzQEg"
      },
      "execution_count": null,
      "outputs": []
    },
    {
      "cell_type": "code",
      "source": [
        "# Filtrar o DataFrame original para apenas os clientes recorrentes\n",
        "df_recurring = df[df['customer_id'].isin(recurring_customers['customer_id'])]\n",
        "\n",
        "# Calcular o volume total de compras e o valor médio por pedido para os clientes recorrentes\n",
        "customer_behavior = df_recurring.groupby('customer_id').agg(\n",
        "    total_sales=('order_value', 'sum'),\n",
        "    average_order_value=('order_value', 'mean'),\n",
        "    order_count=('order_id', 'count')\n",
        ").reset_index()\n",
        "\n",
        "# Verificar o resultado\n",
        "print(customer_behavior.head())"
      ],
      "metadata": {
        "id": "9dBGwOVgzVhy"
      },
      "execution_count": null,
      "outputs": []
    },
    {
      "cell_type": "code",
      "source": [
        "# Converter a coluna de datas para o formato datetime\n",
        "df_recurring['order_date'] = pd.to_datetime(df_recurring['order_date'])\n",
        "\n",
        "# Calcular a diferença de dias entre as compras para cada cliente\n",
        "df_recurring['days_between_orders'] = df_recurring.groupby('customer_id')['order_date'].diff()\n",
        "\n",
        "# Calcular a frequência média de compras (em dias) para cada cliente\n",
        "average_frequency = df_recurring.groupby('customer_id')['days_between_orders'].mean().reset_index()\n",
        "\n",
        "# Verificar o resultado\n",
        "print(average_frequency.head())\n"
      ],
      "metadata": {
        "id": "SVQphZ9yzaIA"
      },
      "execution_count": null,
      "outputs": []
    },
    {
      "cell_type": "code",
      "source": [
        "# Unir as informações de comportamento dos clientes com a frequência média de compras\n",
        "customer_behavior_full = pd.merge(customer_behavior, average_frequency, on='customer_id')\n",
        "\n",
        "# Verificar o resultado final\n",
        "print(customer_behavior_full.head())"
      ],
      "metadata": {
        "id": "I6OG0frXznj5"
      },
      "execution_count": null,
      "outputs": []
    },
    {
      "cell_type": "code",
      "source": [
        "import seaborn as sns\n",
        "import matplotlib.pyplot as plt\n",
        "\n",
        "# Gráfico de dispersão para ver a relação entre volume de compras e frequência de compras\n",
        "plt.figure(figsize=(10,6))\n",
        "sns.scatterplot(x='days_between_orders', y='total_sales', data=customer_behavior_full)\n",
        "\n",
        "# Títulos e rótulos\n",
        "plt.title('Volume Total de Compras vs Frequência de Compras (Clientes Recorrentes)')\n",
        "plt.xlabel('Frequência de Compras (Dias entre Pedidos)')\n",
        "plt.ylabel('Volume Total de Compras ($)')\n",
        "\n",
        "plt.show()"
      ],
      "metadata": {
        "id": "G-qK5s95ztGT"
      },
      "execution_count": null,
      "outputs": []
    },
    {
      "cell_type": "markdown",
      "source": [
        "* **Quais foram os produtos mais vendidos e os menos vendidos?**"
      ],
      "metadata": {
        "id": "sTN6N5Cjz-i6"
      }
    },
    {
      "cell_type": "code",
      "source": [
        "# Agrupar os dados pelo produto e somar as quantidades vendidas\n",
        "product_sales = df.groupby('product_category')['quantity'].sum().reset_index()\n",
        "\n",
        "# Renomear a coluna para \"total_sales\"\n",
        "product_sales = product_sales.rename(columns={'quantity': 'total_sales'})\n",
        "\n",
        "# Verificar o resultado\n",
        "print(product_sales.head())"
      ],
      "metadata": {
        "id": "SORC7UuH0A2A"
      },
      "execution_count": null,
      "outputs": []
    },
    {
      "cell_type": "code",
      "source": [
        "# Classificar os produtos do mais vendido ao menos vendido\n",
        "product_sales_sorted = product_sales.sort_values(by='total_sales', ascending=False).reset_index(drop=True)\n",
        "\n",
        "# Verificar os produtos mais vendidos\n",
        "print(product_sales_sorted.head())\n",
        "\n",
        "# Verificar os produtos menos vendidos\n",
        "print(product_sales_sorted.tail())\n"
      ],
      "metadata": {
        "id": "rmVFic940sMM"
      },
      "execution_count": null,
      "outputs": []
    },
    {
      "cell_type": "code",
      "source": [
        "import seaborn as sns\n",
        "import matplotlib.pyplot as plt\n",
        "\n",
        "# Selecionar os 10 produtos mais vendidos\n",
        "top_10_products = product_sales_sorted.head(10)\n",
        "\n",
        "# Criar gráfico de barras dos produtos mais vendidos\n",
        "plt.figure(figsize=(10,6))\n",
        "sns.barplot(x='total_sales', y='product_category', data=top_10_products, palette=\"viridis\")\n",
        "\n",
        "# Títulos e rótulos\n",
        "plt.title('Top 10 Produtos Mais Vendidos')\n",
        "plt.xlabel('Quantidade Vendida')\n",
        "plt.ylabel('Produto')\n",
        "\n",
        "plt.show()\n",
        "\n",
        "# Selecionar os 10 produtos menos vendidos\n",
        "bottom_10_products = product_sales_sorted.tail(10)\n",
        "\n",
        "# Criar gráfico de barras dos produtos menos vendidos\n",
        "plt.figure(figsize=(10,6))\n",
        "sns.barplot(x='total_sales', y='product_category', data=bottom_10_products, palette=\"magma\")\n",
        "\n",
        "# Títulos e rótulos\n",
        "plt.title('Top 10 Produtos Menos Vendidos')\n",
        "plt.xlabel('Quantidade Vendida')\n",
        "plt.ylabel('Produto')\n",
        "\n",
        "plt.show()"
      ],
      "metadata": {
        "id": "fC581_T_0xu7"
      },
      "execution_count": null,
      "outputs": []
    },
    {
      "cell_type": "markdown",
      "source": [
        "* **Qual o ticket médio por categoria de produto?**"
      ],
      "metadata": {
        "id": "7CXM87oR1cvL"
      }
    },
    {
      "cell_type": "code",
      "source": [
        "# Agrupar por categoria de produto e calcular o valor total e o número de pedidos\n",
        "category_sales = df.groupby('product_category').agg(\n",
        "    total_sales=('order_value', 'sum'),\n",
        "    total_orders=('order_id', 'count')  # Use o número de pedidos como proxy\n",
        ").reset_index()\n",
        "\n",
        "# Verificar o resultado\n",
        "print(category_sales)"
      ],
      "metadata": {
        "id": "bE4EFL471fDC"
      },
      "execution_count": null,
      "outputs": []
    },
    {
      "cell_type": "code",
      "source": [
        "# Calcular o ticket médio por categoria\n",
        "category_sales['ticket_medio'] = category_sales['total_sales'] / category_sales['total_orders']\n",
        "\n",
        "# Verificar o resultado\n",
        "print(category_sales)\n"
      ],
      "metadata": {
        "id": "Hp87c7an1jyr"
      },
      "execution_count": null,
      "outputs": []
    },
    {
      "cell_type": "code",
      "source": [
        "import seaborn as sns\n",
        "import matplotlib.pyplot as plt\n",
        "\n",
        "# Criar gráfico de barras para o ticket médio por categoria\n",
        "plt.figure(figsize=(10,6))\n",
        "sns.barplot(x='ticket_medio', y='product_category', data=category_sales, palette=\"Blues_d\")\n",
        "\n",
        "# Títulos e rótulos\n",
        "plt.title('Ticket Médio por Categoria de Produto')\n",
        "plt.xlabel('Ticket Médio ($)')\n",
        "plt.ylabel('Categoria de Produto')\n",
        "\n",
        "plt.show()"
      ],
      "metadata": {
        "id": "rXf84rEP1pPL"
      },
      "execution_count": null,
      "outputs": []
    },
    {
      "cell_type": "markdown",
      "source": [
        "* **Existe alguma correlação entre o tipo de produto e a região de venda?**"
      ],
      "metadata": {
        "id": "gAg4TNRf2NOz"
      }
    },
    {
      "cell_type": "code",
      "source": [
        "# Criar uma tabela cruzada para mostrar a distribuição de produtos por região\n",
        "cross_tab = pd.crosstab(df['product_category'], df['region'])\n",
        "\n",
        "# Verificar a tabela de contingência\n",
        "print(cross_tab)"
      ],
      "metadata": {
        "id": "b9bzNvZ62TMb"
      },
      "execution_count": null,
      "outputs": []
    },
    {
      "cell_type": "code",
      "source": [
        "# Normalizar a tabela de contingência para mostrar proporções\n",
        "cross_tab_normalized = pd.crosstab(df['product_category'], df['region'], normalize='index')\n",
        "\n",
        "# Verificar a tabela de contingência normalizada\n",
        "print(cross_tab_normalized)\n"
      ],
      "metadata": {
        "id": "zFtljg_02sbT"
      },
      "execution_count": null,
      "outputs": []
    },
    {
      "cell_type": "code",
      "source": [
        "cross_tab.plot(kind='bar', stacked=True, figsize=(10,7))\n",
        "\n",
        "# Títulos e rótulos\n",
        "plt.title('Distribuição de Produtos por Região')\n",
        "plt.xlabel('Categoria de Produto')\n",
        "plt.ylabel('Número de Vendas')\n",
        "plt.legend(title='Região')\n",
        "\n",
        "plt.show()\n"
      ],
      "metadata": {
        "id": "hTpZNpjV2yFy"
      },
      "execution_count": null,
      "outputs": []
    },
    {
      "cell_type": "code",
      "source": [
        "from scipy.stats import chi2_contingency\n",
        "\n",
        "# Aplicar o teste do qui-quadrado à tabela de contingência\n",
        "chi2, p, dof, expected = chi2_contingency(cross_tab)\n",
        "\n",
        "# Verificar os resultados do teste do qui-quadrado\n",
        "print(f'Qui-quadrado: {chi2}')\n",
        "print(f'P-valor: {p}')\n",
        "\n",
        "# Interpretação:\n",
        "if p < 0.05:\n",
        "    print(\"Há uma correlação significativa entre o tipo de produto e a região de venda.\")\n",
        "else:\n",
        "    print(\"Não há correlação significativa entre o tipo de produto e a região de venda.\")\n"
      ],
      "metadata": {
        "id": "U_H4KwNY3Dvz"
      },
      "execution_count": null,
      "outputs": []
    },
    {
      "cell_type": "markdown",
      "source": [
        "* **Qual a taxa de churn ao longo do ano?**"
      ],
      "metadata": {
        "id": "JjlVnm1b3dSD"
      }
    },
    {
      "cell_type": "code",
      "source": [
        "# Converter a coluna 'order_date' para o formato datetime\n",
        "df['order_date'] = pd.to_datetime(df['order_date'])\n",
        "\n",
        "# Extrair o ano e o mês de cada pedido\n",
        "df['year_month'] = df['order_date'].dt.to_period('M')\n"
      ],
      "metadata": {
        "id": "_5EfJD733gEd"
      },
      "execution_count": 63,
      "outputs": []
    },
    {
      "cell_type": "code",
      "source": [
        "# Identificar os clientes únicos que compraram em cada mês\n",
        "active_customers_per_month = df.groupby('year_month')['customer_id'].nunique().reset_index()\n",
        "\n",
        "# Renomear as colunas\n",
        "active_customers_per_month.columns = ['month', 'active_customers']\n",
        "\n",
        "# Verificar o número de clientes ativos por mês\n",
        "print(active_customers_per_month)"
      ],
      "metadata": {
        "id": "GV5eigrH3sAz"
      },
      "execution_count": null,
      "outputs": []
    },
    {
      "cell_type": "code",
      "source": [
        "# Obter todos os meses em que cada cliente fez uma compra\n",
        "customer_last_purchase = df.groupby('customer_id')['year_month'].max().reset_index()\n",
        "\n",
        "# Renomear a coluna\n",
        "customer_last_purchase.columns = ['customer_id', 'last_purchase_month']\n",
        "\n",
        "# Mesclar essa informação com o DataFrame original\n",
        "df = pd.merge(df, customer_last_purchase, on='customer_id')\n",
        "\n",
        "# Identificar clientes que pararam de comprar\n",
        "df['is_churn'] = df['year_month'] > df['last_purchase_month']\n",
        "\n",
        "# Calcular a quantidade de clientes que fizeram churn a cada mês\n",
        "churn_per_month = df.groupby('year_month')['is_churn'].sum().reset_index()\n",
        "\n",
        "# Verificar o resultado\n",
        "print(churn_per_month)"
      ],
      "metadata": {
        "id": "htBd5Xmq3yTU"
      },
      "execution_count": null,
      "outputs": []
    },
    {
      "cell_type": "code",
      "source": [
        "# Calcular a taxa de churn (clientes que pararam de comprar no mês anterior)\n",
        "churn_per_month['churn_rate'] = churn_per_month['is_churn'] / active_customers_per_month['active_customers'].shift(1)\n",
        "\n",
        "# Verificar o resultado final\n",
        "print(churn_per_month)"
      ],
      "metadata": {
        "id": "rAtQ2phc321T"
      },
      "execution_count": null,
      "outputs": []
    },
    {
      "source": [
        "import matplotlib.pyplot as plt\n",
        "\n",
        "# Convert Period objects to strings for plotting\n",
        "churn_per_month['year_month_str'] = churn_per_month['year_month'].astype(str)\n",
        "\n",
        "# Criar gráfico de linha para visualizar a taxa de churn\n",
        "plt.figure(figsize=(10,6))\n",
        "plt.plot(churn_per_month['year_month_str'], churn_per_month['churn_rate'], marker='o')\n",
        "\n",
        "# Títulos e rótulos\n",
        "plt.title('Taxa de Churn ao Longo do Ano')\n",
        "plt.xlabel('Mês')\n",
        "plt.ylabel('Taxa de Churn (%)')\n",
        "\n",
        "plt.grid(True)\n",
        "plt.show()"
      ],
      "cell_type": "code",
      "metadata": {
        "id": "d2Df9_va4KaC"
      },
      "execution_count": null,
      "outputs": []
    }
  ]
}